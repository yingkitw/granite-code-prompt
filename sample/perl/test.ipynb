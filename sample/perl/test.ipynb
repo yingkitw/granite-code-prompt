{
 "cells": [
  {
   "cell_type": "code",
   "execution_count": 1,
   "id": "fd297083-8d8b-401e-95ed-95ecfb780aef",
   "metadata": {},
   "outputs": [],
   "source": [
    "import pandas as pd"
   ]
  },
  {
   "cell_type": "code",
   "execution_count": 2,
   "id": "61d7d94f-b23d-43d0-82ab-87951ca43ef9",
   "metadata": {},
   "outputs": [],
   "source": [
    "import csv"
   ]
  },
  {
   "cell_type": "code",
   "execution_count": 3,
   "id": "c36c25c4-5a8e-4691-8d20-27a29e00ea8e",
   "metadata": {},
   "outputs": [],
   "source": [
    "def read_csv(file):\n",
    "    with open(file, 'r') as fh:\n",
    "        csv_reader = csv.DictReader(fh)\n",
    "        return list(csv_reader)"
   ]
  },
  {
   "cell_type": "code",
   "execution_count": 9,
   "id": "35e4b177-c8c4-4255-bd67-721cdc780f55",
   "metadata": {},
   "outputs": [],
   "source": [
    "def summarize_sales(sales_data):\n",
    "    summary = {}\n",
    "    for row in sales_data:\n",
    "        product = row['Product']\n",
    "        amount = row['Amount']\n",
    "        print()\n",
    "        summary[product] = int(summary.get(product, 0)) + int(amount)\n",
    "    summary_rows = []\n",
    "    for product, total_amount in summary.items():\n",
    "        summary_rows.append({'Product': product, 'Total Amount': total_amount})\n",
    "    return summary_rows"
   ]
  },
  {
   "cell_type": "code",
   "execution_count": 10,
   "id": "ed94e18c-eb5c-4e1a-9415-c4c38eff78d7",
   "metadata": {},
   "outputs": [],
   "source": [
    "input_file = 'sales_data.csv'"
   ]
  },
  {
   "cell_type": "code",
   "execution_count": 11,
   "id": "ef046cc5-b07d-4f6a-b501-7d3155b70cb7",
   "metadata": {},
   "outputs": [],
   "source": [
    "sales_data = read_csv(input_file)"
   ]
  },
  {
   "cell_type": "code",
   "execution_count": 12,
   "id": "d18dcf88-db7e-4f38-a52d-bb8d054fbc02",
   "metadata": {},
   "outputs": [
    {
     "data": {
      "text/plain": [
       "[{'Product': 'Apple', 'Amount': '50'},\n",
       " {'Product': 'Banana', 'Amount': '30'},\n",
       " {'Product': 'Apple', 'Amount': '20'},\n",
       " {'Product': 'Orange', 'Amount': '40'},\n",
       " {'Product': 'Banana', 'Amount': '10'}]"
      ]
     },
     "execution_count": 12,
     "metadata": {},
     "output_type": "execute_result"
    }
   ],
   "source": [
    "sales_data"
   ]
  },
  {
   "cell_type": "code",
   "execution_count": 13,
   "id": "fa2a4c21-51cf-4fa3-97f6-c9fb506ba30f",
   "metadata": {},
   "outputs": [
    {
     "name": "stdout",
     "output_type": "stream",
     "text": [
      "\n",
      "\n",
      "\n",
      "\n",
      "\n"
     ]
    },
    {
     "data": {
      "text/plain": [
       "[{'Product': 'Apple', 'Total Amount': 70},\n",
       " {'Product': 'Banana', 'Total Amount': 40},\n",
       " {'Product': 'Orange', 'Total Amount': 40}]"
      ]
     },
     "execution_count": 13,
     "metadata": {},
     "output_type": "execute_result"
    }
   ],
   "source": [
    "summarize_sales(sales_data)"
   ]
  },
  {
   "cell_type": "code",
   "execution_count": null,
   "id": "fc02447b-04af-4624-9f2f-1dc17a74efac",
   "metadata": {},
   "outputs": [],
   "source": []
  }
 ],
 "metadata": {
  "kernelspec": {
   "display_name": "Python 3 (ipykernel)",
   "language": "python",
   "name": "python3"
  },
  "language_info": {
   "codemirror_mode": {
    "name": "ipython",
    "version": 3
   },
   "file_extension": ".py",
   "mimetype": "text/x-python",
   "name": "python",
   "nbconvert_exporter": "python",
   "pygments_lexer": "ipython3",
   "version": "3.11.8"
  }
 },
 "nbformat": 4,
 "nbformat_minor": 5
}
